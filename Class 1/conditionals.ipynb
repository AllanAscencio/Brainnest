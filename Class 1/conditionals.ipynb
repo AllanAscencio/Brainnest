{
 "cells": [
  {
   "cell_type": "markdown",
   "metadata": {},
   "source": [
    "1. Write a program that prompts the user for a string and checks whether the string is a palindrome (i.e., the string reads the same forward and backward)."
   ]
  },
  {
   "cell_type": "code",
   "execution_count": 1,
   "metadata": {},
   "outputs": [
    {
     "name": "stdout",
     "output_type": "stream",
     "text": [
      "Enter a string: racecar\n",
      "racecar is a palindrome!\n"
     ]
    }
   ],
   "source": [
    "# Here the 'is_palindrome' function takes a string as argument and checks whether the string is equal to\n",
    "# it;s reverse using list slicing, which in this case is [::-1]\n",
    "def is_palindrome(string):\n",
    "    # This creates a copy in reverse from the original word and compares it to the original using '==' in order\n",
    "    # to get a Boolean value\n",
    "    return string == string[::-1]\n",
    "\n",
    "\n",
    "input_string = input(\"Enter a string: \")\n",
    "# If the word is indeed a palindrome, or if the function is True, it will print out the following:\n",
    "if is_palindrome(input_string):\n",
    "    print(f\"{input_string} is a palindrome!\")\n",
    "# If the case above is not correct, it will print and indicate that indeed is not a palindrome\n",
    "else:\n",
    "    print(f\"{input_string} is not a palindrome.\")\n"
   ]
  },
  {
   "cell_type": "markdown",
   "metadata": {},
   "source": [
    "2. Write a program that takes in a list of integers and returns the sum of all even numbers in the list."
   ]
  },
  {
   "cell_type": "code",
   "execution_count": 2,
   "metadata": {},
   "outputs": [
    {
     "name": "stdout",
     "output_type": "stream",
     "text": [
      "Enter a list of integers separated by spaces: 1 2 3 4 5 6 7 8 9 10\n",
      "The sum of all even numbers in the list is 30.\n"
     ]
    }
   ],
   "source": [
    "\"\"\"\n",
    "Here, the sum_even_numbers() function takes a list of integers as an argument and calculates the sum of all even\n",
    " numbers in the list. It initializes a variable total to 0, and then loops over each number in the input list.\n",
    "\"\"\"\n",
    "\n",
    "\n",
    "def sum_even_numbers(numbers):\n",
    "    total = 0\n",
    "# For each number, the function checks whether it is even by using the modulus operator (%) to check whether\n",
    "# the number is divisible by 2 with no remainder. If the number is even, the function adds it to the total variable.\n",
    "# Finally, the function returns the total sum of all even numbers in the input list.\n",
    "    for num in numbers:\n",
    "        if num % 2 == 0:\n",
    "            total += num\n",
    "    return total\n",
    "\n",
    "# The program prompts the user to enter a list of integers separated by spaces using the input() function, \n",
    "# and then converts the input string into a list of integers using a list comprehension. The program then calls the \n",
    "# sum_even_numbers() function with the input list and prints out the sum of all even numbers in the list using an \n",
    "# f-string. \n",
    "\n",
    "\n",
    "input_numbers = input(\"Enter a list of integers separated by spaces: \")\n",
    "numbers_list = [int(n) for n in input_numbers.split()]\n",
    "even_sum = sum_even_numbers(numbers_list)\n",
    "print(f\"The sum of all even numbers in the list is {even_sum}.\")\n"
   ]
  },
  {
   "cell_type": "markdown",
   "metadata": {},
   "source": [
    "3. Write a program that prompts the user for their age and checks whether they are old enough to vote (i.e., 18 years old or older)."
   ]
  },
  {
   "cell_type": "code",
   "execution_count": 3,
   "metadata": {
    "scrolled": true
   },
   "outputs": [
    {
     "name": "stdout",
     "output_type": "stream",
     "text": [
      "What is your age? 19\n",
      "You are old enough to vote.\n"
     ]
    },
    {
     "data": {
      "text/plain": [
       "'\\nHere, the program prompts the user to enter their age using the input() function, and then converts the user\\'s \\ninput into an integer using the int() function. The program then checks whether the user\\'s age is greater \\nthan or equal to 18. If the user is 18 years old or older, the program prints the message \"You are old enough \\nto vote.\" If the user is younger than 18, the program prints the message \"Sorry, you are not old enough to \\nvote yet.\\n\\n'"
      ]
     },
     "execution_count": 3,
     "metadata": {},
     "output_type": "execute_result"
    }
   ],
   "source": [
    "age = int(input(\"What is your age? \"))\n",
    "if age >= 18:\n",
    "    print(\"You are old enough to vote.\")\n",
    "else:\n",
    "    print(\"Sorry, you are not old enough to vote yet.\")\n",
    "\n",
    "\"\"\"\n",
    "Here, the program prompts the user to enter their age using the input() function, and then converts the user's \n",
    "input into an integer using the int() function. The program then checks whether the user's age is greater \n",
    "than or equal to 18. If the user is 18 years old or older, the program prints the message \"You are old enough \n",
    "to vote.\" If the user is younger than 18, the program prints the message \"Sorry, you are not old enough to \n",
    "vote yet.\n",
    "\n",
    "\"\"\""
   ]
  },
  {
   "cell_type": "markdown",
   "metadata": {},
   "source": [
    "4. Write a program that takes in a list of integers and returns the largest number in the list that is also divisible by 3."
   ]
  },
  {
   "cell_type": "code",
   "execution_count": 4,
   "metadata": {},
   "outputs": [
    {
     "name": "stdout",
     "output_type": "stream",
     "text": [
      "Enter a list of integers separated by spaces: 1 3 5 9 8 12 15 21\n",
      "The largest number in the list that is also divisible by 3 is 21.\n"
     ]
    }
   ],
   "source": [
    "# Here, the max_divisible_by_3() function takes a list of integers as an argument and returns the largest number in the\n",
    "# list that is also divisible by 3. It initializes a variable max_num to None, and then loops over each number\n",
    "# in the input list\n",
    "\n",
    "def max_divisible_by_3(numbers):\n",
    "    max_num = None\n",
    "    #  For each number, the function checks whether it is divisible by 3 by using the modulus operator (%) to check\n",
    "    #  whether the number is divisible by 3 with no remainder\n",
    "    for num in numbers:\n",
    "        #  If the number is divisible by 3, the function checks whether it is larger than the current maximum by comparing\n",
    "        #  it to the max_num variable.\n",
    "        if num % 3 == 0:\n",
    "            # If the number is larger than the current maximum (or if max_num is None, meaning that no maximum has been set yet),\n",
    "            # the function updates max_num to the current number. Finally, the function returns the largest number\n",
    "            # in the input list that is also divisible by 3.\n",
    "            if max_num is None or num > max_num:\n",
    "                max_num = num\n",
    "    return max_num\n",
    "\n",
    "\n",
    "# The program prompts the user to enter a list of integers separated by spaces using the input() function,\n",
    "# and then converts the input string into a list of integers using a list comprehension\n",
    "\n",
    "input_numbers = input(\"Enter a list of integers separated by spaces: \")\n",
    "numbers_list = [int(n) for n in input_numbers.split()]\n",
    "\n",
    "#  The program then calls the max_divisible_by_3() function with the input list and prints out the largest number\n",
    "#  in the list that is also divisible by 3 using an f-string\n",
    "\n",
    "max_divisible = max_divisible_by_3(numbers_list)\n",
    "if max_divisible is None:\n",
    "    print(\"There are no numbers in the list that are divisible by 3.\")\n",
    "    \n",
    "# If there are no numbers in the list that are divisible by 3, the program prints a different message.\n",
    "else:\n",
    "    print(f\"The largest number in the list that is also divisible by 3 is {max_divisible}.\")\n"
   ]
  },
  {
   "cell_type": "markdown",
   "metadata": {},
   "source": [
    "5. Write a program that prompts the user for a number and checks whether the number is a prime number (i.e., only divisible by 1 and itself)."
   ]
  },
  {
   "cell_type": "code",
   "execution_count": 5,
   "metadata": {},
   "outputs": [
    {
     "name": "stdout",
     "output_type": "stream",
     "text": [
      "Enter a number: 11\n",
      "11 is a prime number.\n"
     ]
    }
   ],
   "source": [
    "# Here, the is_prime() function takes an integer n as an argument and returns a Boolean value indicating\n",
    "# whether n is a prime number.\n",
    "\n",
    "def is_prime(n):\n",
    "    # The function first checks whether n is less than 2 (since 0 and 1 are not prime), and returns False if it is.\n",
    "    if n <= 1:\n",
    "        return False\n",
    "    # The function then loops over all integers i between 2 and the square root of n, inclusive, and checks whether\n",
    "    # n is divisible by i. If n is divisible by i, the function returns False.\n",
    "    for i in range(2, int(n ** 0.5) + 1):\n",
    "        if n % i == 0:\n",
    "            return False\n",
    "    # If the loop completes without finding any divisors of n, the function returns True.\n",
    "    return True\n",
    "\n",
    "# The program prompts the user to enter a number using the input() function and converts the input string \n",
    "# into an integer using the int() function. The program then calls the is_prime() function with the input \n",
    "# number and prints out whether the number is prime or not using an f-string.\n",
    "\n",
    "\n",
    "num = int(input(\"Enter a number: \"))\n",
    "if is_prime(num):\n",
    "    print(f\"{num} is a prime number.\")\n",
    "else:\n",
    "    print(f\"{num} is not a prime number.\")\n"
   ]
  },
  {
   "cell_type": "code",
   "execution_count": null,
   "metadata": {},
   "outputs": [],
   "source": []
  }
 ],
 "metadata": {
  "kernelspec": {
   "display_name": "Python 3 (ipykernel)",
   "language": "python",
   "name": "python3"
  },
  "language_info": {
   "codemirror_mode": {
    "name": "ipython",
    "version": 3
   },
   "file_extension": ".py",
   "mimetype": "text/x-python",
   "name": "python",
   "nbconvert_exporter": "python",
   "pygments_lexer": "ipython3",
   "version": "3.10.9"
  },
  "vscode": {
   "interpreter": {
    "hash": "f7a5be651532581cb44625d52e18aa1d390cab54bc6b51099d8c30bea9b68219"
   }
  }
 },
 "nbformat": 4,
 "nbformat_minor": 2
}
