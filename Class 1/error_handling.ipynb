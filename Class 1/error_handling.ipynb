{
 "cells": [
  {
   "cell_type": "markdown",
   "metadata": {},
   "source": [
    "1. Write a function that takes a list of integers as an argument, and returns the sum of the integers. Use a try-except block to catch any ValueError exceptions that may be raised when attempting to convert a string to an integer."
   ]
  },
  {
   "cell_type": "code",
   "execution_count": 6,
   "metadata": {},
   "outputs": [
    {
     "name": "stdout",
     "output_type": "stream",
     "text": [
      "Try using only integers, string and floating point numbers are not accepted\n",
      "34\n"
     ]
    }
   ],
   "source": [
    "def sum_ints(*numbers):\n",
    "    try:\n",
    "        # Here we are unpacking what is store in numbers and if it's all integers we add them all\n",
    "        print(sum(numbers))\n",
    "    # In case we have an error due to inputs regarding strings we output the following message    \n",
    "    except TypeError:\n",
    "        print(\"Try using only integers, string and floating point numbers are not accepted\")\n",
    "\n",
    "# This is an example with error handling\n",
    "sum_ints(2, 4, \"a\", 10)\n",
    "\n",
    "#This is an example with the correct kind of input\n",
    "sum_ints(2, 4, 18, 10)"
   ]
  },
  {
   "cell_type": "markdown",
   "metadata": {},
   "source": [
    "2. Write a function that takes a filename as an argument, and attempts to open the file. Use a try-except block to catch any FileNotFoundError exceptions that may be raised when attempting to open the file. If the file is successfully opened, the function should return the contents of the file."
   ]
  },
  {
   "cell_type": "code",
   "execution_count": 10,
   "metadata": {},
   "outputs": [
    {
     "name": "stdout",
     "output_type": "stream",
     "text": [
      "The file example.txt could not be found.\n"
     ]
    }
   ],
   "source": [
    "def open_file(filename):\n",
    "    try:\n",
    "        \"\"\"In this function, we first try to open the file using the with open(filename) as f statement. \n",
    "        If the file is found and opened successfully, we read its contents and return them using f.read().\"\"\"\n",
    "        with open(filename) as f:\n",
    "            contents = f.read()\n",
    "            return contents\n",
    "        \"\"\"If a FileNotFoundError exception is raised when attempting to open the file, we catch the exception with\n",
    "         the except FileNotFoundError block and print a message to inform the user that the file could not be found\"\"\"\n",
    "    except FileNotFoundError:\n",
    "        print(f\"The file {filename} could not be found.\")\n",
    "\n",
    "\n",
    "# We can use the following example\n",
    "file_contents = open_file(\"example.txt\")\n"
   ]
  },
  {
   "cell_type": "markdown",
   "metadata": {},
   "source": [
    "3. Write a function that takes a list of strings as an argument, and returns a new list containing only the strings that can be successfully converted to a float. Use a try-except block to catch any ValueError exceptions that may be raised when attempting to convert a string to a float."
   ]
  },
  {
   "cell_type": "code",
   "execution_count": 9,
   "metadata": {},
   "outputs": [
    {
     "name": "stdout",
     "output_type": "stream",
     "text": [
      "[3.14, 2.718, 42.0]\n"
     ]
    }
   ],
   "source": [
    "def get_floats(strings):\n",
    "    floats = []\n",
    "    for s in strings:\n",
    "        # For each string, it attempts to convert the string to a float using the float() function within a\n",
    "        # try-except block\n",
    "        try:\n",
    "            f = float(s)\n",
    "            floats.append(f)\n",
    "        except ValueError:\n",
    "            pass\n",
    "# If the conversion is successful, the resulting float is appended to the floats list. If a ValueError exception is\n",
    "# raised (e.g., if the string cannot be converted to a float), the function catches it with the except block and\n",
    "# moves on to the next string.\n",
    "    return floats\n",
    "\n",
    "\n",
    "strs = ['3.14', '2.718', 'hello', '42']\n",
    "floats = get_floats(strs)\n",
    "print(floats)"
   ]
  },
  {
   "cell_type": "markdown",
   "metadata": {},
   "source": [
    "4. Write a function that takes a list of dictionaries as an argument, and returns the value of a specified key from each dictionary. Use a try-except block to catch any KeyError exceptions that may be raised when attempting to access a key that does not exist in a dictionary."
   ]
  },
  {
   "cell_type": "code",
   "execution_count": 8,
   "metadata": {},
   "outputs": [
    {
     "name": "stdout",
     "output_type": "stream",
     "text": [
      "There is a dictionary that doesn't have the key 'age' or is misspelled\n",
      "[25, 30, 35]\n"
     ]
    }
   ],
   "source": [
    "\"\"\"Here, the get_values() function takes a list of dictionaries as the first argument, and a key as the second\n",
    "argument. The function creates an empty list values to store the values of the specified key from each dictionary,\n",
    "and then loops over each dictionary in the input list. \"\"\"\n",
    "\n",
    "\n",
    "def get_values(dicts, key):\n",
    "    values = []\n",
    "# For each dictionary i, the function attempts to access the value associated with the specified key using the i[key]\n",
    "# syntax within a try-except block. If the key exists in the dictionary, the corresponding value is appended to\n",
    "# the values list.\n",
    "    for i in dicts:\n",
    "        try:\n",
    "            value = i[key]\n",
    "            values.append(value)\n",
    "# If the key exists in the dictionary, the corresponding value is appended to the values list. If a KeyError \n",
    "# exception is raised (e.g., if the key does not exist in the dictionary), the function catches it with the \n",
    "# except block and moves on to the next dictionary. \n",
    "        except KeyError:\n",
    "            print(\"There is a dictionary that doesn't have the key 'age' or is misspelled\")\n",
    "    return values\n",
    "\n",
    "# I made up this list of dictionaries\n",
    "\n",
    "\n",
    "test = [{'name': 'Alice', 'age': 25},\n",
    "        {'name': 'Bob', 'age': 30, 'city': 'New York'},\n",
    "        {'name': 'Charlie', 'age': 35, 'city': 'San Francisco'},\n",
    "        {'name': 'Charlie', 'ages': 42, 'city': 'San Francisco'}]\n",
    "\n",
    "print(get_values(test, 'age'))"
   ]
  },
  {
   "cell_type": "markdown",
   "metadata": {},
   "source": [
    "5. Write a function that takes a list of integers as an argument, and returns the largest integer in the list. Use a try-except block to catch any ValueError exceptions that may be raised when attempting to compare elements that are not integers."
   ]
  },
  {
   "cell_type": "code",
   "execution_count": 7,
   "metadata": {},
   "outputs": [
    {
     "name": "stdout",
     "output_type": "stream",
     "text": [
      "9\n",
      "9\n"
     ]
    }
   ],
   "source": [
    "# One way to do it\n",
    "\"\"\"Here, the get_largest_integer() function takes a list of integers as an argument, creates a variable largest\n",
    "initialized to None, and then loops over each integer in the input list \"\"\"\n",
    "\n",
    "def get_largest_integer(integers):\n",
    "    largest = None\n",
    "# For each integer i, the function attempts to compare it to the current largest integer using the > operator within\n",
    "# a try-except block. If the integer is larger than the current largest integer or if the largest variable has\n",
    "# not been assigned a value yet, the function updates the largest variable to the current integer\n",
    "    for i in integers:\n",
    "        try:\n",
    "            if largest is None or i > largest:\n",
    "                largest = i\n",
    "# If a TypeError or a ValueError exception is raised (e.g., if the element is not an integer), the function catches\n",
    "# it with the except block and moves on to the next element.\n",
    "        except TypeError:\n",
    "            print(\"The value entered might be a string. Try again using only integers\")\n",
    "        except ValueError:\n",
    "            print(\"The value entered might no be an integer. Please check again\")\n",
    "    return largest\n",
    "\n",
    "\n",
    "test = [3, 1, 4, 1, 5, 9, 2, 6, 5, 3, 5]\n",
    "print(get_largest_integer(test))\n",
    "\n",
    "\n",
    "# 2nd way to do it\n",
    "def get_largest_integer(integers):\n",
    "    # the only difference from the first one is in here, because we are not using a for loop, and we are using a \n",
    "    # more pythonic way using the max() function extracting the highest value in our list\n",
    "    try:\n",
    "        return max(integers)\n",
    "    except TypeError:\n",
    "        print(\"The value entered might be a string. Try again using only integers\")\n",
    "    except ValueError:\n",
    "        print(\"The value entered might no be an integer. Please check again\")\n",
    "\n",
    "\n",
    "test = [3, 1, 4, 1, 5, 9, 2, 6, 5, 3, 5]\n",
    "print(get_largest_integer(test))"
   ]
  },
  {
   "cell_type": "code",
   "execution_count": null,
   "metadata": {},
   "outputs": [],
   "source": []
  }
 ],
 "metadata": {
  "kernelspec": {
   "display_name": "Python 3 (ipykernel)",
   "language": "python",
   "name": "python3"
  },
  "language_info": {
   "codemirror_mode": {
    "name": "ipython",
    "version": 3
   },
   "file_extension": ".py",
   "mimetype": "text/x-python",
   "name": "python",
   "nbconvert_exporter": "python",
   "pygments_lexer": "ipython3",
   "version": "3.10.9"
  },
  "vscode": {
   "interpreter": {
    "hash": "f7a5be651532581cb44625d52e18aa1d390cab54bc6b51099d8c30bea9b68219"
   }
  }
 },
 "nbformat": 4,
 "nbformat_minor": 2
}
