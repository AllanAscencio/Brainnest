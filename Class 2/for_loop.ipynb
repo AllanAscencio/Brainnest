{
 "cells": [
  {
   "cell_type": "markdown",
   "metadata": {},
   "source": [
    "1. Create a for loop that iterates through a list of strings and prints each string in uppercase."
   ]
  },
  {
   "cell_type": "code",
   "execution_count": 1,
   "metadata": {},
   "outputs": [
    {
     "name": "stdout",
     "output_type": "stream",
     "text": [
      "FUR ELISE\n",
      "LACRIMOSA\n",
      "INVENTION N14\n"
     ]
    }
   ],
   "source": [
    "words = [\"fur elise\", \"lacrimosa\", \"invention n14\"]\n",
    "for each_word in words:\n",
    "    print(each_word.upper())\n"
   ]
  },
  {
   "cell_type": "markdown",
   "metadata": {},
   "source": [
    "2. Create a for loop that iterates through a list of numbers and prints the square of each number."
   ]
  },
  {
   "cell_type": "code",
   "execution_count": 3,
   "metadata": {},
   "outputs": [
    {
     "name": "stdout",
     "output_type": "stream",
     "text": [
      "1\n",
      "4\n",
      "9\n",
      "16\n",
      "25\n",
      "36\n",
      "49\n",
      "64\n",
      "81\n",
      "100\n"
     ]
    }
   ],
   "source": [
    "numbers = [1, 2, 3, 4, 5, 6, 7, 8, 9, 10]\n",
    "for each_number in numbers:\n",
    "    print(each_number ** 2)"
   ]
  },
  {
   "cell_type": "markdown",
   "metadata": {},
   "source": [
    "3. Create a for loop that iterates through a list of dictionaries and prints the value of a specified key for each dictionary."
   ]
  },
  {
   "cell_type": "code",
   "execution_count": 4,
   "metadata": {},
   "outputs": [
    {
     "name": "stdout",
     "output_type": "stream",
     "text": [
      "Python\n"
     ]
    }
   ],
   "source": [
    "students = [{'name': 'Borislav Hadzhiev',\n",
    "    'fruit': 'apple',\n",
    "    'number': 5,\n",
    "    'website': 'bobbyhadz.com',\n",
    "    'topic': 'Python'}]\n",
    "\n",
    "\n",
    "for student in students:\n",
    "    print(student[\"topic\"])\n"
   ]
  },
  {
   "cell_type": "markdown",
   "metadata": {},
   "source": [
    "4. Create a for loop that iterates through a list of numbers and prints the largest number in the list."
   ]
  },
  {
   "cell_type": "code",
   "execution_count": 8,
   "metadata": {},
   "outputs": [
    {
     "name": "stdout",
     "output_type": "stream",
     "text": [
      "10\n",
      "25\n"
     ]
    }
   ],
   "source": [
    "# 1st method\n",
    "\n",
    "list_of_number = [1, 2, 3, 4, 5, 6, 7, 8, 9, 10]\n",
    "max_number = []\n",
    "for i in list_of_number:\n",
    "    max_number.append(i)\n",
    "\n",
    "print(max(max_number))\n",
    "\n",
    "\n",
    "# 2nd method\n",
    "\n",
    "numbers = [15, 20, 5, 10, 25]\n",
    "\n",
    "# Let's assume the first number is the largest for now\n",
    "largest_number = numbers[0]\n",
    "\n",
    "for num in numbers:\n",
    "    if num > largest_number:\n",
    "        largest_number = num\n",
    "\n",
    "print(largest_number)"
   ]
  },
  {
   "cell_type": "markdown",
   "metadata": {},
   "source": [
    "5. Create a for loop that iterates through a list of lists and prints the sum of the elements in each sub-list."
   ]
  },
  {
   "cell_type": "code",
   "execution_count": 9,
   "metadata": {},
   "outputs": [
    {
     "name": "stdout",
     "output_type": "stream",
     "text": [
      "6\n",
      "15\n",
      "24\n"
     ]
    }
   ],
   "source": [
    "list_of_lists = [\n",
    "    [1, 2, 3],\n",
    "    [4, 5, 6],\n",
    "    [7, 8, 9]\n",
    "]\n",
    "\n",
    "for i in list_of_lists:\n",
    "    lista_sum = sum(i)\n",
    "    print(lista_sum)"
   ]
  },
  {
   "cell_type": "code",
   "execution_count": null,
   "metadata": {},
   "outputs": [],
   "source": []
  }
 ],
 "metadata": {
  "kernelspec": {
   "display_name": "Python 3 (ipykernel)",
   "language": "python",
   "name": "python3"
  },
  "language_info": {
   "codemirror_mode": {
    "name": "ipython",
    "version": 3
   },
   "file_extension": ".py",
   "mimetype": "text/x-python",
   "name": "python",
   "nbconvert_exporter": "python",
   "pygments_lexer": "ipython3",
   "version": "3.10.9"
  }
 },
 "nbformat": 4,
 "nbformat_minor": 2
}
