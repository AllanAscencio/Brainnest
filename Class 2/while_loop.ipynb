{
 "cells": [
  {
   "cell_type": "markdown",
   "metadata": {},
   "source": [
    "1. Create a while loop that repeatedly takes user input and adds the input to a list until the user enters \"done\"."
   ]
  },
  {
   "cell_type": "code",
   "execution_count": null,
   "metadata": {
    "vscode": {
     "languageId": "plaintext"
    }
   },
   "outputs": [],
   "source": [
    "inputs = []\n",
    "while True:\n",
    "    user_input = input(\"Enter an input (or 'done' to finish): \")\n",
    "    if user_input == \"done\":\n",
    "        break\n",
    "    else:\n",
    "        inputs.append(user_input)\n"
   ]
  },
  {
   "cell_type": "markdown",
   "metadata": {},
   "source": [
    "2. Create a while loop that generates random numbers and adds them to a list until the sum of all numbers in the list is greater than 100."
   ]
  },
  {
   "cell_type": "code",
   "execution_count": null,
   "metadata": {
    "vscode": {
     "languageId": "plaintext"
    }
   },
   "outputs": [],
   "source": [
    "import random\n",
    "\n",
    "numbers = []\n",
    "running = True\n",
    "while running:\n",
    "    numbers.append(random.randint(1, 10))\n",
    "    if sum(numbers) >= 100:\n",
    "        print(\"Random numbers generated:\", numbers)\n",
    "        print(\"Total sum of all numbers: \", sum(numbers))\n",
    "        running = False\n"
   ]
  },
  {
   "cell_type": "markdown",
   "metadata": {},
   "source": [
    "3. Create a while loop that repeatedly takes user input and appends it to a list, but only if the input is a unique string."
   ]
  },
  {
   "cell_type": "code",
   "execution_count": null,
   "metadata": {
    "vscode": {
     "languageId": "plaintext"
    }
   },
   "outputs": [],
   "source": [
    "import re\n",
    "# While loop using regular expressions to check if it is only string from a to Z\n",
    "inputs = []\n",
    "while True:\n",
    "    user_input = input(\"Enter a unique input (or 'done' to finish): \")\n",
    "    if user_input == \"done\":\n",
    "        break\n",
    "    elif re.match(\"^[a-zA-Z]+$\", user_input) and user_input not in inputs:\n",
    "        inputs.append(user_input)\n",
    "    else:\n",
    "        print(\"That input is not a unique string. Please enter a different string.\")\n",
    "\n",
    "print(\"The unique strings are:\", inputs)\n"
   ]
  },
  {
   "cell_type": "markdown",
   "metadata": {},
   "source": [
    "4. Create a while loop that repeatedly takes user input and appends it to a list, but only if the input is a number greater than 10."
   ]
  },
  {
   "cell_type": "code",
   "execution_count": null,
   "metadata": {
    "vscode": {
     "languageId": "plaintext"
    }
   },
   "outputs": [],
   "source": [
    "numbers = []\n",
    "while True:\n",
    "    user_input = input(\"Enter a number greater than 10 (or 'done' to finish): \")\n",
    "    if user_input == \"done\":\n",
    "        break\n",
    "    elif user_input.isnumeric() and int(user_input) > 10:\n",
    "        numbers.append(int(user_input))\n",
    "    else:\n",
    "        print(\"That input is not a number greater than 10. Please enter a different number.\")\n",
    "\n",
    "print(\"The numbers greater than 10 are:\", numbers)\n"
   ]
  },
  {
   "cell_type": "markdown",
   "metadata": {},
   "source": [
    "5. Create a while loop that repeatedly takes user input and keeps track of the highest number entered until the user enters \"done\"."
   ]
  },
  {
   "cell_type": "code",
   "execution_count": null,
   "metadata": {
    "vscode": {
     "languageId": "plaintext"
    }
   },
   "outputs": [],
   "source": [
    "highest_number = None\n",
    "while True:\n",
    "    user_input = input(\"Enter a number (or 'done' to finish): \")\n",
    "    if user_input == \"done\":\n",
    "        break\n",
    "    elif user_input.isnumeric():\n",
    "        number = int(user_input)\n",
    "        if highest_number is None or number > highest_number:\n",
    "            highest_number = number\n",
    "    else:\n",
    "        print(\"That input is not a number. Please enter a different input.\")\n",
    "\n",
    "if highest_number is not None:\n",
    "    print(\"The highest number entered was:\", highest_number)\n",
    "else:\n",
    "    print(\"No numbers were entered.\")"
   ]
  }
 ],
 "metadata": {
  "kernelspec": {
   "display_name": "Python 3 (ipykernel)",
   "language": "python",
   "name": "python3"
  },
  "language_info": {
   "codemirror_mode": {
    "name": "ipython",
    "version": 3
   },
   "file_extension": ".py",
   "mimetype": "text/x-python",
   "name": "python",
   "nbconvert_exporter": "python",
   "pygments_lexer": "ipython3",
   "version": "3.10.9"
  }
 },
 "nbformat": 4,
 "nbformat_minor": 2
}
