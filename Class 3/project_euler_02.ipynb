{
 "cells": [
  {
   "cell_type": "markdown",
   "metadata": {},
   "source": [
    "1. \n",
    "\n",
    "Work out the first ten digits of the sum of the following one-hundred 50-digit numbers.\n",
    "\n",
    "37107287533902102798797998220837590246510135740250\n",
    "46376937677490009712648124896970078050417018260538\n",
    "74324986199524741059474233309513058123726617309629\n",
    "91942213363574161572522430563301811072406154908250\n",
    "23067588207539346171171980310421047513778063246676\n",
    "89261670696623633820136378418383684178734361726757\n",
    "28112879812849979408065481931592621691275889832738\n",
    "44274228917432520321923589422876796487670272189318\n",
    "47451445736001306439091167216856844588711603153276\n",
    "70386486105843025439939619828917593665686757934951\n",
    "62176457141856560629502157223196586755079324193331\n",
    "64906352462741904929101432445813822663347944758178\n",
    "92575867718337217661963751590579239728245598838407\n",
    "58203565325359399008402633568948830189458628227828\n",
    "80181199384826282014278194139940567587151170094390\n",
    "35398664372827112653829987240784473053190104293586\n",
    "86515506006295864861532075273371959191420517255829\n",
    "71693888707715466499115593487603532921714970056938\n",
    "54370070576826684624621495650076471787294438377604\n",
    "53282654108756828443191190634694037855217779295145\n",
    "36123272525000296071075082563815656710885258350721\n",
    "45876576172410976447339110607218265236877223636045\n",
    "17423706905851860660448207621209813287860733969412\n",
    "81142660418086830619328460811191061556940512689692\n",
    "51934325451728388641918047049293215058642563049483\n",
    "62467221648435076201727918039944693004732956340691\n",
    "15732444386908125794514089057706229429197107928209\n",
    "55037687525678773091862540744969844508330393682126\n",
    "18336384825330154686196124348767681297534375946515\n",
    "80386287592878490201521685554828717201219257766954\n",
    "78182833757993103614740356856449095527097864797581\n",
    "16726320100436897842553539920931837441497806860984\n",
    "48403098129077791799088218795327364475675590848030\n",
    "87086987551392711854517078544161852424320693150332\n",
    "59959406895756536782107074926966537676326235447210\n",
    "69793950679652694742597709739166693763042633987085\n",
    "41052684708299085211399427365734116182760315001271\n",
    "65378607361501080857009149939512557028198746004375\n",
    "35829035317434717326932123578154982629742552737307\n",
    "94953759765105305946966067683156574377167401875275\n",
    "88902802571733229619176668713819931811048770190271\n",
    "25267680276078003013678680992525463401061632866526\n",
    "36270218540497705585629946580636237993140746255962\n",
    "24074486908231174977792365466257246923322810917141\n",
    "91430288197103288597806669760892938638285025333403\n",
    "34413065578016127815921815005561868836468420090470\n",
    "23053081172816430487623791969842487255036638784583\n",
    "11487696932154902810424020138335124462181441773470\n",
    "63783299490636259666498587618221225225512486764533\n",
    "67720186971698544312419572409913959008952310058822\n",
    "95548255300263520781532296796249481641953868218774\n",
    "76085327132285723110424803456124867697064507995236\n",
    "37774242535411291684276865538926205024910326572967\n",
    "23701913275725675285653248258265463092207058596522\n",
    "29798860272258331913126375147341994889534765745501\n",
    "18495701454879288984856827726077713721403798879715\n",
    "38298203783031473527721580348144513491373226651381\n",
    "34829543829199918180278916522431027392251122869539\n",
    "40957953066405232632538044100059654939159879593635\n",
    "29746152185502371307642255121183693803580388584903\n",
    "41698116222072977186158236678424689157993532961922\n",
    "62467957194401269043877107275048102390895523597457\n",
    "23189706772547915061505504953922979530901129967519\n",
    "86188088225875314529584099251203829009407770775672\n",
    "11306739708304724483816533873502340845647058077308\n",
    "82959174767140363198008187129011875491310547126581\n",
    "97623331044818386269515456334926366572897563400500\n",
    "42846280183517070527831839425882145521227251250327\n",
    "55121603546981200581762165212827652751691296897789\n",
    "32238195734329339946437501907836945765883352399886\n",
    "75506164965184775180738168837861091527357929701337\n",
    "62177842752192623401942399639168044983993173312731\n",
    "32924185707147349566916674687634660915035914677504\n",
    "99518671430235219628894890102423325116913619626622\n",
    "73267460800591547471830798392868535206946944540724\n",
    "76841822524674417161514036427982273348055556214818\n",
    "97142617910342598647204516893989422179826088076852\n",
    "87783646182799346313767754307809363333018982642090\n",
    "10848802521674670883215120185883543223812876952786\n",
    "71329612474782464538636993009049310363619763878039\n",
    "62184073572399794223406235393808339651327408011116\n",
    "66627891981488087797941876876144230030984490851411\n",
    "60661826293682836764744779239180335110989069790714\n",
    "85786944089552990653640447425576083659976645795096\n",
    "66024396409905389607120198219976047599490197230297\n",
    "64913982680032973156037120041377903785566085089252\n",
    "16730939319872750275468906903707539413042652315011\n",
    "94809377245048795150954100921645863754710598436791\n",
    "78639167021187492431995700641917969777599028300699\n",
    "15368713711936614952811305876380278410754449733078\n",
    "40789923115535562561142322423255033685442488917353\n",
    "44889911501440648020369068063960672322193204149535\n",
    "41503128880339536053299340368006977710650566631954\n",
    "81234880673210146739058568557934581403627822703280\n",
    "82616570773948327592232845941706525094512325230608\n",
    "22918802058777319719839450180888072429661980811197\n",
    "77158542502016545090413245809786882778948721859617\n",
    "72107838435069186155435662884062257473692284509516\n",
    "20849603980134001723930671666823555245252804609722\n",
    "53503534226472524250874054075591789781264330331690"
   ]
  },
  {
   "cell_type": "code",
   "execution_count": 4,
   "metadata": {},
   "outputs": [
    {
     "name": "stdout",
     "output_type": "stream",
     "text": [
      "5537376230\n"
     ]
    }
   ],
   "source": [
    "numbers = [37107287533902102798797998220837590246510135740250, 46376937677490009712648124896970078050417018260538,\n",
    "           74324986199524741059474233309513058123726617309629, 91942213363574161572522430563301811072406154908250,\n",
    "           23067588207539346171171980310421047513778063246676, 89261670696623633820136378418383684178734361726757,\n",
    "           28112879812849979408065481931592621691275889832738, 44274228917432520321923589422876796487670272189318,\n",
    "           47451445736001306439091167216856844588711603153276, 70386486105843025439939619828917593665686757934951,\n",
    "           62176457141856560629502157223196586755079324193331, 64906352462741904929101432445813822663347944758178,\n",
    "           92575867718337217661963751590579239728245598838407, 58203565325359399008402633568948830189458628227828,\n",
    "           80181199384826282014278194139940567587151170094390, 35398664372827112653829987240784473053190104293586,\n",
    "           86515506006295864861532075273371959191420517255829, 71693888707715466499115593487603532921714970056938,\n",
    "           54370070576826684624621495650076471787294438377604, 53282654108756828443191190634694037855217779295145,\n",
    "           36123272525000296071075082563815656710885258350721, 45876576172410976447339110607218265236877223636045,\n",
    "           17423706905851860660448207621209813287860733969412, 81142660418086830619328460811191061556940512689692,\n",
    "           51934325451728388641918047049293215058642563049483, 62467221648435076201727918039944693004732956340691,\n",
    "           15732444386908125794514089057706229429197107928209, 55037687525678773091862540744969844508330393682126,\n",
    "           18336384825330154686196124348767681297534375946515, 80386287592878490201521685554828717201219257766954,\n",
    "           78182833757993103614740356856449095527097864797581, 16726320100436897842553539920931837441497806860984,\n",
    "           48403098129077791799088218795327364475675590848030, 87086987551392711854517078544161852424320693150332,\n",
    "           59959406895756536782107074926966537676326235447210, 69793950679652694742597709739166693763042633987085,\n",
    "           41052684708299085211399427365734116182760315001271, 65378607361501080857009149939512557028198746004375,\n",
    "           35829035317434717326932123578154982629742552737307, 94953759765105305946966067683156574377167401875275,\n",
    "           88902802571733229619176668713819931811048770190271, 25267680276078003013678680992525463401061632866526,\n",
    "           36270218540497705585629946580636237993140746255962, 24074486908231174977792365466257246923322810917141,\n",
    "           91430288197103288597806669760892938638285025333403, 34413065578016127815921815005561868836468420090470,\n",
    "           23053081172816430487623791969842487255036638784583, 11487696932154902810424020138335124462181441773470,\n",
    "           63783299490636259666498587618221225225512486764533, 67720186971698544312419572409913959008952310058822,\n",
    "           95548255300263520781532296796249481641953868218774, 76085327132285723110424803456124867697064507995236,\n",
    "           37774242535411291684276865538926205024910326572967, 23701913275725675285653248258265463092207058596522,\n",
    "           29798860272258331913126375147341994889534765745501, 18495701454879288984856827726077713721403798879715,\n",
    "           38298203783031473527721580348144513491373226651381, 34829543829199918180278916522431027392251122869539,\n",
    "           40957953066405232632538044100059654939159879593635, 29746152185502371307642255121183693803580388584903,\n",
    "           41698116222072977186158236678424689157993532961922, 62467957194401269043877107275048102390895523597457,\n",
    "           23189706772547915061505504953922979530901129967519, 86188088225875314529584099251203829009407770775672,\n",
    "           11306739708304724483816533873502340845647058077308, 82959174767140363198008187129011875491310547126581,\n",
    "           97623331044818386269515456334926366572897563400500, 42846280183517070527831839425882145521227251250327,\n",
    "           55121603546981200581762165212827652751691296897789, 32238195734329339946437501907836945765883352399886,\n",
    "           75506164965184775180738168837861091527357929701337, 62177842752192623401942399639168044983993173312731,\n",
    "           32924185707147349566916674687634660915035914677504, 99518671430235219628894890102423325116913619626622,\n",
    "           73267460800591547471830798392868535206946944540724, 76841822524674417161514036427982273348055556214818,\n",
    "           97142617910342598647204516893989422179826088076852, 87783646182799346313767754307809363333018982642090,\n",
    "           10848802521674670883215120185883543223812876952786, 71329612474782464538636993009049310363619763878039,\n",
    "           62184073572399794223406235393808339651327408011116, 66627891981488087797941876876144230030984490851411,\n",
    "           60661826293682836764744779239180335110989069790714, 85786944089552990653640447425576083659976645795096,\n",
    "           66024396409905389607120198219976047599490197230297, 64913982680032973156037120041377903785566085089252,\n",
    "           16730939319872750275468906903707539413042652315011, 94809377245048795150954100921645863754710598436791,\n",
    "           78639167021187492431995700641917969777599028300699, 15368713711936614952811305876380278410754449733078,\n",
    "           40789923115535562561142322423255033685442488917353, 44889911501440648020369068063960672322193204149535,\n",
    "           41503128880339536053299340368006977710650566631954, 81234880673210146739058568557934581403627822703280,\n",
    "           82616570773948327592232845941706525094512325230608, 22918802058777319719839450180888072429661980811197,\n",
    "           77158542502016545090413245809786882778948721859617, 72107838435069186155435662884062257473692284509516,\n",
    "           20849603980134001723930671666823555245252804609722, 53503534226472524250874054075591789781264330331690]\n",
    "\n",
    "print(str(sum(numbers))[:10])\n"
   ]
  },
  {
   "cell_type": "markdown",
   "metadata": {},
   "source": [
    "2. \n",
    "\n",
    "The following iterative sequence is defined for the set of positive integers:\n",
    "\n",
    "n → n/2 (n is even)\n",
    "n → 3n + 1 (n is odd)\n",
    "\n",
    "Using the rule above and starting with 13, we generate the following sequence:\n",
    "13 → 40 → 20 → 10 → 5 → 16 → 8 → 4 → 2 → 1\n",
    "\n",
    "It can be seen that this sequence (starting at 13 and finishing at 1) contains 10 terms. Although it has not been proved yet (Collatz Problem), it is thought that all starting numbers finish at 1.\n",
    "\n",
    "Which starting number, under one million, produces the longest chain?\n",
    "\n",
    "NOTE: Once the chain starts the terms are allowed to go above one million.\n"
   ]
  },
  {
   "cell_type": "code",
   "execution_count": 12,
   "metadata": {},
   "outputs": [
    {
     "name": "stdout",
     "output_type": "stream",
     "text": [
      "837799\n"
     ]
    }
   ],
   "source": [
    "longest_chain = 0\n",
    "starting_number = 0\n",
    "\n",
    "for number in range(500000, 1000000):\n",
    "    sequence = []\n",
    "    new_number = number\n",
    "    while new_number > 1:\n",
    "        sequence.append(new_number)\n",
    "        if new_number % 2 == 0:\n",
    "            new_number = new_number // 2\n",
    "        else:\n",
    "            new_number = 3 * new_number + 1\n",
    "    sequence.append(1)\n",
    "    if len(sequence) > longest_chain:\n",
    "        longest_chain = len(sequence)\n",
    "        starting_number = number\n",
    "\n",
    "print(starting_number)"
   ]
  },
  {
   "cell_type": "markdown",
   "metadata": {},
   "source": [
    "3. \n",
    "\n",
    "2^15 = 32768 and the sum of its digits is 3 + 2 + 7 + 6 + 8 = 26.\n",
    "\n",
    "What is the sum of the digits of the number 2^1000?\n"
   ]
  },
  {
   "cell_type": "code",
   "execution_count": 13,
   "metadata": {},
   "outputs": [
    {
     "name": "stdout",
     "output_type": "stream",
     "text": [
      "1366\n"
     ]
    }
   ],
   "source": [
    "num = str(2 ** 1000)\n",
    "total = 0\n",
    "for i in num:\n",
    "    total += int(i)\n",
    "\n",
    "print(total)"
   ]
  },
  {
   "cell_type": "markdown",
   "metadata": {},
   "source": [
    "4. \n",
    "\n",
    "If the numbers 1 to 5 are written out in words: one, two, three, four, five, then there are 3 + 3 + 5 + 4 + 4 = 19 letters used in total.\n",
    "\n",
    "If all the numbers from 1 to 1000 (one thousand) inclusive were written out in words, how many letters would be used?\n",
    "\n",
    "NOTE: Do not count spaces or hyphens. For example, 342 (three hundred and forty-two) contains 23 letters and 115 (one hundred and fifteen) contains 20 letters. The use of \"and\" when writing out numbers is in compliance with British usage.\n"
   ]
  },
  {
   "cell_type": "code",
   "execution_count": 14,
   "metadata": {},
   "outputs": [
    {
     "name": "stdout",
     "output_type": "stream",
     "text": [
      "21124\n"
     ]
    }
   ],
   "source": [
    "def number_of_letters(n):\n",
    "    \"\"\"Returns the number of letters used to write out a number in words.\"\"\"\n",
    "    if n == 1000:\n",
    "        return 11 # \"one thousand\"\n",
    "    ones = [\"\", \"one\", \"two\", \"three\", \"four\", \"five\", \"six\", \"seven\", \"eight\", \"nine\", \"ten\",\n",
    "            \"eleven\", \"twelve\", \"thirteen\", \"fourteen\", \"fifteen\", \"sixteen\", \"seventeen\", \"eighteen\", \"nineteen\"]\n",
    "    tens = [\"\", \"\", \"twenty\", \"thirty\", \"forty\", \"fifty\", \"sixty\", \"seventy\", \"eighty\", \"ninety\"]\n",
    "    if n < 20:\n",
    "        return len(ones[n])\n",
    "    elif n < 100:\n",
    "        return len(tens[n // 10]) + len(ones[n % 10])\n",
    "    elif n < 1000:\n",
    "        hundred_digit = ones[n // 100]\n",
    "        if n % 100 == 0:\n",
    "            return len(hundred_digit) + len(\"hundred\")\n",
    "        else:\n",
    "            return len(hundred_digit) + len(\"hundredand\") + number_of_letters(n % 100)\n",
    "\n",
    "total_letters = sum(number_of_letters(n) for n in range(1, 1001))\n",
    "print(total_letters)"
   ]
  },
  {
   "cell_type": "markdown",
   "metadata": {},
   "source": [
    "5. \n",
    "\n",
    "You are given the following information, but you may prefer to do some research for yourself.\n",
    "\n",
    "    1 Jan 1900 was a Monday.\n",
    "    Thirty days has September,\n",
    "    April, June and November.\n",
    "    All the rest have thirty-one,\n",
    "    Saving February alone,\n",
    "    Which has twenty-eight, rain or shine.\n",
    "    And on leap years, twenty-nine.\n",
    "    A leap year occurs on any year evenly divisible by 4, but not on a century unless it is divisible by 400.\n",
    "\n",
    "How many Sundays fell on the first of the month during the twentieth century (1 Jan 1901 to 31 Dec 2000)?\n"
   ]
  },
  {
   "cell_type": "code",
   "execution_count": 20,
   "metadata": {},
   "outputs": [
    {
     "name": "stdout",
     "output_type": "stream",
     "text": [
      "171\n"
     ]
    }
   ],
   "source": [
    "def is_leap_year(year):\n",
    "    if year % 4 == 0:\n",
    "        if year % 100 == 0:\n",
    "            if year % 400 == 0:\n",
    "                return True\n",
    "            else:\n",
    "                return False\n",
    "        else:\n",
    "            return True\n",
    "    else:\n",
    "        return False\n",
    "\n",
    "\n",
    "def count_sundays_on_first_of_month():\n",
    "    # Start on 1 Jan 1901, which was a Tuesday\n",
    "    day_of_week = 2\n",
    "    count = 0\n",
    "\n",
    "    for year in range(1901, 2001):\n",
    "        for month in range(1, 13):\n",
    "            # Determine the number of days in the month\n",
    "            if month in [4, 6, 9, 11]:\n",
    "                days_in_month = 30\n",
    "            elif month == 2:\n",
    "                if is_leap_year(year):\n",
    "                    days_in_month = 29\n",
    "                else:\n",
    "                    days_in_month = 28\n",
    "            else:\n",
    "                days_in_month = 31\n",
    "\n",
    "            # If the first day of the month is a Sunday, we add 1\n",
    "            if day_of_week == 0:\n",
    "                count += 1\n",
    "\n",
    "            # Advance the day of the week to the first day of the next month\n",
    "            day_of_week = (day_of_week + days_in_month) % 7\n",
    "\n",
    "    return count\n",
    "\n",
    "\n",
    "print(count_sundays_on_first_of_month())"
   ]
  },
  {
   "cell_type": "markdown",
   "metadata": {},
   "source": [
    "6. \n",
    "\n",
    "n! means n × (n − 1) × ... × 3 × 2 × 1\n",
    "\n",
    "For example, 10! = 10 × 9 × ... × 3 × 2 × 1 = 3628800,\n",
    "and the sum of the digits in the number 10! is 3 + 6 + 2 + 8 + 8 + 0 + 0 = 27.\n",
    "\n",
    "Find the sum of the digits in the number 100!\n"
   ]
  },
  {
   "cell_type": "code",
   "execution_count": 1,
   "metadata": {},
   "outputs": [
    {
     "name": "stdout",
     "output_type": "stream",
     "text": [
      "648\n"
     ]
    }
   ],
   "source": [
    "n = 100\n",
    "# We create a list to append each number decreasing by 1\n",
    "result = []\n",
    "for i in (range(1, n + 1)):\n",
    "    result.append(i)\n",
    "# multiply each of the elements appended with each other\n",
    "total = 1\n",
    "for i in result:\n",
    "    total *= i\n",
    "# Conversion from int to str so we can iterate and add each number separately \n",
    "# to the list_of_digits, so we can add all the elements with each other\n",
    "string = str(total)\n",
    "list_of_digits = []\n",
    "for i in string:\n",
    "    list_of_digits.append(int(i))\n",
    "print(sum(list_of_digits))\n"
   ]
  },
  {
   "cell_type": "markdown",
   "metadata": {},
   "source": [
    "7. \n",
    "\n",
    "Let d(n) be defined as the sum of proper divisors of n (numbers less than n which divide evenly into n).\n",
    "If d(a) = b and d(b) = a, where a ≠ b, then a and b are an amicable pair and each of a and b are called amicable numbers.\n",
    "\n",
    "For example, the proper divisors of 220 are 1, 2, 4, 5, 10, 11, 20, 22, 44, 55 and 110; therefore d(220) = 284. The proper divisors of 284 are 1, 2, 4, 71 and 142; so d(284) = 220.\n",
    "\n",
    "Evaluate the sum of all the amicable numbers under 10000.\n"
   ]
  },
  {
   "cell_type": "code",
   "execution_count": 4,
   "metadata": {},
   "outputs": [
    {
     "name": "stdout",
     "output_type": "stream",
     "text": [
      "31626\n",
      "31626\n"
     ]
    }
   ],
   "source": [
    "#Method number 1\n",
    "\n",
    "def divisors_of_n(n):\n",
    "    \"\"\"Returns the sum of proper divisors of n\"\"\"\n",
    "    list_of_nums = []\n",
    "    for i in range(1, n):\n",
    "        if (n / i).is_integer():\n",
    "            list_of_nums.append(i)\n",
    "    return sum(list_of_nums)\n",
    "\n",
    "\n",
    "\"\"\"Iterates from 2 to 10000 to check for amicables and then add\n",
    "them to a set to make sure they don't repeat\"\"\"\n",
    "amicable_numbers = set()\n",
    "for i in range(2, 10000):\n",
    "    sum_div_i = divisors_of_n(i)\n",
    "    if sum_div_i != i and divisors_of_n(sum_div_i) == i:\n",
    "        amicable_numbers.add(i)\n",
    "        amicable_numbers.add(sum_div_i)\n",
    "# Finally we sum all the numbers up\n",
    "print(sum(amicable_numbers))\n",
    "\n",
    "# Method number 2 \n",
    "\n",
    "\"\"\" Doing some research in this problem I found a solution that refractors my code\n",
    "to make it more efficient. I changed sum_of_proper_divisors(n) due to large numbers \n",
    "we might process, this second method reduces the number of iterations because \n",
    "takes advantage of the fact that proper divisors come in pairs, and only iterates up to the \n",
    "square root of n. \"\"\"\n",
    "\n",
    "def sum_of_proper_divisors(n):\n",
    "    divisors = [1]\n",
    "    for i in range(2, int(n**0.5)+1):\n",
    "        if n % i == 0:\n",
    "            divisors.append(i)\n",
    "            if i != n // i:\n",
    "                divisors.append(n // i)\n",
    "    return sum(divisors)\n",
    "\n",
    "amicable_numbers = set()\n",
    "for i in range(2, 10000):\n",
    "    sum_div_i = sum_of_proper_divisors(i)\n",
    "    if sum_div_i != i and sum_of_proper_divisors(sum_div_i) == i:\n",
    "        amicable_numbers.add(i)\n",
    "        amicable_numbers.add(sum_div_i)\n",
    "\n",
    "print(sum(amicable_numbers))"
   ]
  },
  {
   "cell_type": "markdown",
   "metadata": {},
   "source": [
    "8. \n",
    "\n",
    "A perfect number is a number for which the sum of its proper divisors is exactly equal to the number. For example, the sum of the proper divisors of 28 would be 1 + 2 + 4 + 7 + 14 = 28, which means that 28 is a perfect number.\n",
    "\n",
    "A number n is called deficient if the sum of its proper divisors is less than n and it is called abundant if this sum exceeds n.\n",
    "\n",
    "As 12 is the smallest abundant number, 1 + 2 + 3 + 4 + 6 = 16, the smallest number that can be written as the sum of two abundant numbers is 24. By mathematical analysis, it can be shown that all integers greater than 28123 can be written as the sum of two abundant numbers. However, this upper limit cannot be reduced any further by analysis even though it is known that the greatest number that cannot be expressed as the sum of two abundant numbers is less than this limit.\n",
    "\n",
    "Find the sum of all the positive integers which cannot be written as the sum of two abundant numbers.\n"
   ]
  },
  {
   "cell_type": "code",
   "execution_count": null,
   "metadata": {},
   "outputs": [],
   "source": [
    "def sum_proper_divisors(n):\n",
    "    return sum(i for i in range(1, n) if n % i == 0)\n",
    "\n",
    "\n",
    "abundant_numbers = set()\n",
    "for i in range(1, 28123):\n",
    "    if sum_proper_divisors(i) > i:\n",
    "        abundant_numbers.add(i)\n",
    "\n",
    "sums_of_abundant_numbers = set()\n",
    "for i in abundant_numbers:\n",
    "    for j in abundant_numbers:\n",
    "        if i + j > 28123:\n",
    "            break\n",
    "        sums_of_abundant_numbers.add(i + j)\n",
    "\n",
    "total = sum(i for i in range(1, 28123) if i not in sums_of_abundant_numbers)\n",
    "print(total)"
   ]
  },
  {
   "cell_type": "markdown",
   "metadata": {},
   "source": [
    "9. \n",
    "\n",
    "A permutation is an ordered arrangement of objects. For example, 3124 is one possible permutation of the digits 1, 2, 3 and 4. If all of the permutations are listed numerically or alphabetically, we call it lexicographic order. The lexicographic permutations of 0, 1 and 2 are:\n",
    "\n",
    "012   021   102   120   201   210\n",
    "\n",
    "What is the millionth lexicographic permutation of the digits 0, 1, 2, 3, 4, 5, 6, 7, 8 and 9?\n"
   ]
  },
  {
   "cell_type": "code",
   "execution_count": 5,
   "metadata": {},
   "outputs": [
    {
     "name": "stdout",
     "output_type": "stream",
     "text": [
      "2783915460\n"
     ]
    }
   ],
   "source": [
    "# Import the math module, which provides a factorial function\n",
    "import math\n",
    "\n",
    "digits = list(range(10))\n",
    "n = len(digits)\n",
    "\n",
    "# Set the index of the permutation we want to find to a variable k\n",
    "k = 1000000\n",
    "permutation = []\n",
    "\n",
    "# Loop while there are digits left to add to the permutation\n",
    "while n > 0:\n",
    "    # Compute the largest factorial that is less than or equal to k\n",
    "    f = math.factorial(n-1)\n",
    "    \n",
    "    # Compute the index of the digit to add to the permutation\n",
    "    index = math.ceil(k/f) - 1\n",
    "    \n",
    "    # Add the digit at the specified index to the permutation list\n",
    "    digit = digits[index]\n",
    "    permutation.append(digit)\n",
    "    \n",
    "    # Remove the digit from the list of remaining digits\n",
    "    digits.remove(digit)\n",
    "    \n",
    "    # Update k to be the remainder when k is divided by f\n",
    "    k = k % f\n",
    "    \n",
    "    # Decrement n since we've added one more digit to the permutation\n",
    "    n -= 1\n",
    "\n",
    "print(''.join(str(d) for d in permutation))\n"
   ]
  },
  {
   "cell_type": "markdown",
   "metadata": {},
   "source": [
    "10. \n",
    "\n",
    "A unit fraction contains 1 in the numerator. The decimal representation of the unit fractions with denominators 2 to 10 are given:\n",
    "\n",
    "    1/2\t= \t0.5\n",
    "    1/3\t= \t0.(3)\n",
    "    1/4\t= \t0.25\n",
    "    1/5\t= \t0.2\n",
    "    1/6\t= \t0.1(6)\n",
    "    1/7\t= \t0.(142857)\n",
    "    1/8\t= \t0.125\n",
    "    1/9\t= \t0.(1)\n",
    "    1/10\t= \t0.1 \n",
    "\n",
    "Where 0.1(6) means 0.166666..., and has a 1-digit recurring cycle. It can be seen that 1/7 has a 6-digit recurring cycle.\n",
    "\n",
    "Find the value of d < 1000 for which 1/d contains the longest recurring cycle in its decimal fraction part.\n"
   ]
  },
  {
   "cell_type": "code",
   "execution_count": null,
   "metadata": {},
   "outputs": [],
   "source": [
    "def find_longest_recurring_cycle():\n",
    "    # Initialize variables to store the max cycle length and the corresponding d value\n",
    "    max_cycle_length = 0\n",
    "    max_cycle_d = 0\n",
    "\n",
    "    # Loop over possible values of d\n",
    "    for d in range(1, 1000):\n",
    "        # Initialize variables for the long division process\n",
    "        remainders = []\n",
    "        remainder = 1\n",
    "\n",
    "        # Perform long division to find the decimal expansion of 1/d\n",
    "        while remainder not in remainders:\n",
    "            remainders.append(remainder)\n",
    "            remainder = (remainder * 10) % d\n",
    "\n",
    "        # If the long division process repeats a sequence of digits, it has a recurring cycle\n",
    "        if remainder != 0:\n",
    "            cycle_length = len(remainders) - remainders.index(remainder)\n",
    "            if cycle_length > max_cycle_length:\n",
    "                max_cycle_length = cycle_length\n",
    "                max_cycle_d = d\n",
    "\n",
    "    # Return the d value with the longest recurring cycle\n",
    "    return max_cycle_d\n",
    "\n",
    "print(find_longest_recurring_cycle())"
   ]
  }
 ],
 "metadata": {
  "kernelspec": {
   "display_name": "Python 3 (ipykernel)",
   "language": "python",
   "name": "python3"
  },
  "language_info": {
   "codemirror_mode": {
    "name": "ipython",
    "version": 3
   },
   "file_extension": ".py",
   "mimetype": "text/x-python",
   "name": "python",
   "nbconvert_exporter": "python",
   "pygments_lexer": "ipython3",
   "version": "3.10.9"
  },
  "vscode": {
   "interpreter": {
    "hash": "f7a5be651532581cb44625d52e18aa1d390cab54bc6b51099d8c30bea9b68219"
   }
  }
 },
 "nbformat": 4,
 "nbformat_minor": 2
}
