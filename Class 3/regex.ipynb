{
 "cells": [
  {
   "cell_type": "markdown",
   "metadata": {},
   "source": [
    "1.  Write a regular expression that matches a date in the format dd/mm/yyyy. For example, the string \"01/01/2021\" should match."
   ]
  },
  {
   "cell_type": "code",
   "execution_count": 2,
   "metadata": {},
   "outputs": [
    {
     "name": "stdout",
     "output_type": "stream",
     "text": [
      "['28/04/2023']\n"
     ]
    }
   ],
   "source": [
    "import re\n",
    "\n",
    "date_regex = r\"\\d{2}/\\d{2}/\\d{4}\"\n",
    "test_string = \"Today's date is 28/04/2023.\"\n",
    "\n",
    "matches = re.findall(date_regex, test_string)\n",
    "\n",
    "print(matches)"
   ]
  },
  {
   "cell_type": "markdown",
   "metadata": {},
   "source": [
    "2. Write a regular expression that matches a phone number in the format xxx-xxx-xxxx, where x is a digit. For example, the string \"123-456-7890\" should match."
   ]
  },
  {
   "cell_type": "code",
   "execution_count": 1,
   "metadata": {},
   "outputs": [
    {
     "name": "stdout",
     "output_type": "stream",
     "text": [
      "['123-456-7890']\n"
     ]
    }
   ],
   "source": [
    "import re\n",
    "\n",
    "phone_regex = r\"\\d{3}-\\d{3}-\\d{4}\"\n",
    "test_string = \"My phone number is 123-456-7890.\"\n",
    "\n",
    "matches = re.findall(phone_regex, test_string)\n",
    "\n",
    "print(matches)"
   ]
  },
  {
   "cell_type": "markdown",
   "metadata": {},
   "source": [
    "3. Write a regular expression that matches a valid email address. For example, the string \"example@example.com\" should match."
   ]
  },
  {
   "cell_type": "code",
   "execution_count": 4,
   "metadata": {},
   "outputs": [
    {
     "name": "stdout",
     "output_type": "stream",
     "text": [
      "Valid email\n"
     ]
    }
   ],
   "source": [
    "import re\n",
    "\n",
    "regex = re.compile(r'([A-Za-z0-9]+[.-_])*[A-Za-z0-9]+@[A-Za-z0-9-]+(\\.[A-Z|a-z]{2,})+')\n",
    "\n",
    "\n",
    "def isValid(email):\n",
    "    if re.fullmatch(regex, email):\n",
    "        print(\"Valid email\")\n",
    "    else:\n",
    "        print(\"Invalid email\")\n",
    "\n",
    "\n",
    "isValid(\"example@example.com\")\n"
   ]
  },
  {
   "cell_type": "markdown",
   "metadata": {},
   "source": [
    "4. Write a regular expression that matches a string that starts with a word, followed by one or more whitespace characters, followed by another word. For example, the string \"hello world\" should match."
   ]
  },
  {
   "cell_type": "code",
   "execution_count": 5,
   "metadata": {},
   "outputs": [
    {
     "name": "stdout",
     "output_type": "stream",
     "text": [
      "Match found: hello world\n"
     ]
    }
   ],
   "source": [
    "import re\n",
    "\n",
    "string = \"hello world\"\n",
    "pattern = r\"^\\w+\\s+\\w+\"\n",
    "match = re.search(pattern, string)\n",
    "\n",
    "if match:\n",
    "    print(\"Match found:\", match.group())\n",
    "else:\n",
    "    print(\"No match found.\")\n"
   ]
  },
  {
   "cell_type": "markdown",
   "metadata": {},
   "source": [
    "5. Write a regular expression that matches a string that contains a number with exactly two decimal places. For example, the string \"1.23\" should match, but the string \"1.234\" should not match."
   ]
  },
  {
   "cell_type": "code",
   "execution_count": 6,
   "metadata": {},
   "outputs": [
    {
     "name": "stdout",
     "output_type": "stream",
     "text": [
      "Match found: 1.23\n"
     ]
    }
   ],
   "source": [
    "import re\n",
    "\n",
    "string = \"The price is $1.23\"\n",
    "pattern = r\"\\b\\d+\\.\\d{2}\\b\"\n",
    "match = re.search(pattern, string)\n",
    "\n",
    "if match:\n",
    "    print(\"Match found:\", match.group())\n",
    "else:\n",
    "    print(\"No match found.\")\n"
   ]
  },
  {
   "cell_type": "code",
   "execution_count": null,
   "metadata": {},
   "outputs": [],
   "source": []
  }
 ],
 "metadata": {
  "kernelspec": {
   "display_name": "Python 3 (ipykernel)",
   "language": "python",
   "name": "python3"
  },
  "language_info": {
   "codemirror_mode": {
    "name": "ipython",
    "version": 3
   },
   "file_extension": ".py",
   "mimetype": "text/x-python",
   "name": "python",
   "nbconvert_exporter": "python",
   "pygments_lexer": "ipython3",
   "version": "3.10.9"
  },
  "vscode": {
   "interpreter": {
    "hash": "f7a5be651532581cb44625d52e18aa1d390cab54bc6b51099d8c30bea9b68219"
   }
  }
 },
 "nbformat": 4,
 "nbformat_minor": 2
}
