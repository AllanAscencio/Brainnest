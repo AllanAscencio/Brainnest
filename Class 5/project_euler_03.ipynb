{
 "cells": [
  {
   "cell_type": "markdown",
   "metadata": {},
   "source": [
    "1. \n",
    "\n",
    "In the United Kingdom the currency is made up of pound (£) and pence (p). There are eight coins in general circulation:\n",
    "\n",
    "    1p, 2p, 5p, 10p, 20p, 50p, £1 (100p), and £2 (200p).\n",
    "\n",
    "It is possible to make £2 in the following way:\n",
    "\n",
    "    1×£1 + 1×50p + 2×20p + 1×5p + 1×2p + 3×1p\n",
    "\n",
    "How many different ways can £2 be made using any number of coins?\n"
   ]
  },
  {
   "cell_type": "code",
   "execution_count": 1,
   "metadata": {},
   "outputs": [
    {
     "name": "stdout",
     "output_type": "stream",
     "text": [
      "73682\n"
     ]
    }
   ],
   "source": [
    "coins = [1, 2, 5, 10, 20, 50, 100, 200]\n",
    "ways = [1] + [0] * 200\n",
    "\n",
    "for coin in coins:\n",
    "    for i in range(coin, 201):\n",
    "        ways[i] += ways[i-coin]\n",
    "\n",
    "print(ways[200])"
   ]
  },
  {
   "cell_type": "markdown",
   "metadata": {},
   "source": [
    "2. \n",
    "\n",
    "We shall say that an n-digit number is pandigital if it makes use of all the digits 1 to n exactly once; for example, the 5-digit number, 15234, is 1 through 5 pandigital.\n",
    "\n",
    "The product 7254 is unusual, as the identity, 39 × 186 = 7254, containing multiplicand, multiplier, and product is 1 through 9 pandigital.\n",
    "\n",
    "Find the sum of all products whose multiplicand/multiplier/product identity can be written as a 1 through 9 pandigital.\n",
    "HINT: Some products can be obtained in more than one way so be sure to only include it once in your sum.\n"
   ]
  },
  {
   "cell_type": "code",
   "execution_count": 2,
   "metadata": {},
   "outputs": [
    {
     "name": "stdout",
     "output_type": "stream",
     "text": [
      "45228\n"
     ]
    }
   ],
   "source": [
    "def is_pandigital(a, b, c):\n",
    "    s = ''.join([str(x) for x in [a, b, c]])\n",
    "    return ''.join(sorted(s)) == '123456789'\n",
    "\n",
    "products = set()\n",
    "\n",
    "for a in range(1, 100):\n",
    "    for b in range(a, 10000 // a): # stop iterating if the product exceeds 9999\n",
    "        c = a * b\n",
    "        if is_pandigital(a, b, c):\n",
    "            products.add(c)\n",
    "\n",
    "print(sum(products))\n"
   ]
  },
  {
   "cell_type": "markdown",
   "metadata": {},
   "source": [
    "3. \n",
    "\n",
    "The fraction 49/98 is a curious fraction, as an inexperienced mathematician in attempting to simplify it may incorrectly believe that 49/98 = 4/8, which is correct, is obtained by cancelling the 9s.\n",
    "\n",
    "We shall consider fractions like, 30/50 = 3/5, to be trivial examples.\n",
    "\n",
    "There are exactly four non-trivial examples of this type of fraction, less than one in value, and containing two digits in the numerator and denominator.\n",
    "\n",
    "If the product of these four fractions is given in its lowest common terms, find the value of the denominator.\n"
   ]
  },
  {
   "cell_type": "code",
   "execution_count": 3,
   "metadata": {},
   "outputs": [
    {
     "name": "stdout",
     "output_type": "stream",
     "text": [
      "1175952237465600\n"
     ]
    }
   ],
   "source": [
    "from fractions import Fraction\n",
    "\n",
    "curious_fractions = []\n",
    "\n",
    "for numerator in range(10, 100):\n",
    "    for denominator in range(numerator + 1, 100): # fraction should be less than one\n",
    "        n_digits = str(numerator)\n",
    "        d_digits = str(denominator)\n",
    "        for digit in n_digits:\n",
    "            if digit in d_digits:\n",
    "                new_n_digits = n_digits.replace(digit, '', 1)\n",
    "                new_d_digits = d_digits.replace(digit, '', 1)\n",
    "                if new_d_digits != '0' and Fraction(numerator, denominator) == Fraction(int(new_n_digits), int(new_d_digits)):\n",
    "                    curious_fractions.append(Fraction(numerator, denominator))\n",
    "\n",
    "product = Fraction(1, 1)\n",
    "for fraction in curious_fractions:\n",
    "    product *= fraction\n",
    "\n",
    "print(product.denominator)\n"
   ]
  },
  {
   "cell_type": "markdown",
   "metadata": {},
   "source": [
    "4. \n",
    "\n",
    "145 is a curious number, as 1! + 4! + 5! = 1 + 24 + 120 = 145.\n",
    "\n",
    "Find the sum of all numbers which are equal to the sum of the factorial of their digits.\n",
    "\n",
    "Note: As 1! = 1 and 2! = 2 are not sums they are not included.\n"
   ]
  },
  {
   "cell_type": "code",
   "execution_count": 6,
   "metadata": {},
   "outputs": [
    {
     "name": "stdout",
     "output_type": "stream",
     "text": [
      "40730\n"
     ]
    }
   ],
   "source": [
    "import math\n",
    "\n",
    "def sum_of_factorial_of_digits(n):\n",
    "    return sum(math.factorial(int(d)) for d in str(n))\n",
    "\n",
    "total = 0\n",
    "for i in range(10, 10**7):\n",
    "    if i == sum_of_factorial_of_digits(i):\n",
    "        total += i\n",
    "print(total)\n"
   ]
  },
  {
   "cell_type": "markdown",
   "metadata": {},
   "source": [
    "5. \n",
    "\n",
    "The number, 197, is called a circular prime because all rotations of the digits: 197, 971, and 719, are themselves prime.\n",
    "\n",
    "There are thirteen such primes below 100: 2, 3, 5, 7, 11, 13, 17, 31, 37, 71, 73, 79, and 97.\n",
    "\n",
    "How many circular primes are there below one million?\n"
   ]
  },
  {
   "cell_type": "code",
   "execution_count": 7,
   "metadata": {},
   "outputs": [
    {
     "name": "stdout",
     "output_type": "stream",
     "text": [
      "55\n"
     ]
    }
   ],
   "source": [
    "# Define a function to check if a number is prime\n",
    "def is_prime(n):\n",
    "    if n < 2:\n",
    "        return False\n",
    "    for i in range(2, int(n**0.5) + 1):\n",
    "        if n % i == 0:\n",
    "            return False\n",
    "    return True\n",
    "\n",
    "# Define a function to generate all circular permutations of a number\n",
    "def get_circular_permutations(n):\n",
    "    s = str(n)\n",
    "    return [int(s[i:] + s[:i]) for i in range(len(s))]\n",
    "\n",
    "# Use the Sieve of Eratosthenes to generate all prime numbers up to one million\n",
    "primes = set()\n",
    "for i in range(2, 1000000):\n",
    "    if is_prime(i):\n",
    "        primes.add(i)\n",
    "\n",
    "# Check each prime number to see if all its circular permutations are also prime\n",
    "count = 0\n",
    "for p in primes:\n",
    "    if all(permutation in primes for permutation in get_circular_permutations(p)):\n",
    "        count += 1\n",
    "\n",
    "# Print the number of circular primes found\n",
    "print(count)\n"
   ]
  },
  {
   "cell_type": "code",
   "execution_count": null,
   "metadata": {},
   "outputs": [],
   "source": []
  }
 ],
 "metadata": {
  "kernelspec": {
   "display_name": "Python 3 (ipykernel)",
   "language": "python",
   "name": "python3"
  },
  "language_info": {
   "codemirror_mode": {
    "name": "ipython",
    "version": 3
   },
   "file_extension": ".py",
   "mimetype": "text/x-python",
   "name": "python",
   "nbconvert_exporter": "python",
   "pygments_lexer": "ipython3",
   "version": "3.10.9"
  }
 },
 "nbformat": 4,
 "nbformat_minor": 2
}
