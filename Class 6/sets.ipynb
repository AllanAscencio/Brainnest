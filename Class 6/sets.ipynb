{
 "cells": [
  {
   "cell_type": "markdown",
   "metadata": {},
   "source": [
    "1. Given two sets A and B, write a function to return the symmetric difference between them as a new set. The symmetric difference is the set of elements that are in either A or B, but not in both."
   ]
  },
  {
   "cell_type": "code",
   "execution_count": 1,
   "metadata": {},
   "outputs": [
    {
     "name": "stdout",
     "output_type": "stream",
     "text": [
      "['orange', 7, 12, 'banana']\n"
     ]
    }
   ],
   "source": [
    "# Set 1\n",
    "set1 = {\"apple\", 7, \"banana\", 12, \"orange\", 9, 3, \"grape\", 18, \"pear\"}\n",
    "\n",
    "# Set 2\n",
    "set2 = {7, \"watermelon\", 16, \"banana\", \"kiwi\", 21, \"orange\", 5, \"pineapple\", 12}\n",
    "\n",
    "not_repeated_elements = []\n",
    "\n",
    "for i in set1:\n",
    "    if i in set2:\n",
    "        not_repeated_elements.append(i)\n",
    "\n",
    "print(not_repeated_elements)"
   ]
  },
  {
   "cell_type": "markdown",
   "metadata": {},
   "source": [
    "2. Given a list of numbers, write a function to return a set of all prime numbers from the list."
   ]
  },
  {
   "cell_type": "code",
   "execution_count": 2,
   "metadata": {},
   "outputs": [
    {
     "name": "stdout",
     "output_type": "stream",
     "text": [
      "{2, 37, 7, 43, 13, 19, 31}\n"
     ]
    }
   ],
   "source": [
    "numbers = [2, 7, 13, 19, 21, 31, 34, 37, 43, 50]\n",
    "set1 = set()\n",
    "\n",
    "for i in numbers:\n",
    "    c = 0\n",
    "    for j in range(1, i):\n",
    "        if i % j == 0:\n",
    "            c += 1\n",
    "    if c == 1:\n",
    "        set1.add(i)\n",
    "print(set1)"
   ]
  },
  {
   "cell_type": "markdown",
   "metadata": {},
   "source": [
    "3. Given a list of words, write a function to return a set of all anagrams in the list."
   ]
  },
  {
   "cell_type": "code",
   "execution_count": 3,
   "metadata": {},
   "outputs": [
    {
     "name": "stdout",
     "output_type": "stream",
     "text": [
      "{'stop', 'post', 'listen', 'silent', 'car', 'arc'}\n"
     ]
    }
   ],
   "source": [
    "words_list = [\"listen\", \"silent\", \"car\", \"arc\", \"post\", \"valorant\", \"stop\", \"fantastic\", \"counter\", \"strike\"]\n",
    "\n",
    "\n",
    "def find_anagrams(words):\n",
    "    anagrams = set()\n",
    "    word_count = {}\n",
    "    for word in words:\n",
    "        sorted_word = ''.join(sorted(word))\n",
    "        word_count[sorted_word] = word_count.get(sorted_word, []) + [word]\n",
    "        if len(word_count[sorted_word]) > 1:\n",
    "            anagrams.update(word_count[sorted_word])\n",
    "    return anagrams\n",
    "\n",
    "\n",
    "print(find_anagrams(words_list))"
   ]
  },
  {
   "cell_type": "markdown",
   "metadata": {},
   "source": [
    "4. Given a list of sets, write a function to return the Cartesian product of all sets in the list."
   ]
  },
  {
   "cell_type": "code",
   "execution_count": 5,
   "metadata": {},
   "outputs": [
    {
     "name": "stdout",
     "output_type": "stream",
     "text": [
      "{(2, 4, 5), (1, 4, 5), (2, 3, 5), (1, 3, 5)}\n"
     ]
    }
   ],
   "source": [
    "from itertools import product\n",
    "\n",
    "\n",
    "def cartesian_product(sets):\n",
    "    return set(product(*sets))\n",
    "\n",
    "\n",
    "sets1 = [{1, 2}, {3, 4}, {5}]\n",
    "\n",
    "print(cartesian_product(sets1))"
   ]
  },
  {
   "cell_type": "code",
   "execution_count": null,
   "metadata": {},
   "outputs": [],
   "source": []
  }
 ],
 "metadata": {
  "kernelspec": {
   "display_name": "Python 3 (ipykernel)",
   "language": "python",
   "name": "python3"
  },
  "language_info": {
   "codemirror_mode": {
    "name": "ipython",
    "version": 3
   },
   "file_extension": ".py",
   "mimetype": "text/x-python",
   "name": "python",
   "nbconvert_exporter": "python",
   "pygments_lexer": "ipython3",
   "version": "3.10.9"
  },
  "vscode": {
   "interpreter": {
    "hash": "f7a5be651532581cb44625d52e18aa1d390cab54bc6b51099d8c30bea9b68219"
   }
  }
 },
 "nbformat": 4,
 "nbformat_minor": 2
}
